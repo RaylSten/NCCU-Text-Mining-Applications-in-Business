{
  "cells": [
    {
      "cell_type": "code",
      "execution_count": null,
      "metadata": {
        "execution": {
          "iopub.execute_input": "2022-11-20T22:50:40.793306Z",
          "iopub.status.busy": "2022-11-20T22:50:40.792135Z",
          "iopub.status.idle": "2022-11-20T22:50:55.021688Z",
          "shell.execute_reply": "2022-11-20T22:50:55.020706Z",
          "shell.execute_reply.started": "2022-11-20T22:50:40.793171Z"
        },
        "trusted": true,
        "id": "nLLu5D64djdP"
      },
      "outputs": [],
      "source": [
        "import pandas as pd\n",
        "import matplotlib.pyplot as plt\n",
        "import re\n",
        "from tqdm.auto import tqdm\n",
        "from sklearn.model_selection import train_test_split\n",
        "from sklearn.metrics import ConfusionMatrixDisplay, classification_report\n",
        "from transformers import BertTokenizer, AutoModelForSequenceClassification, get_scheduler\n",
        "import torch\n",
        "from torch.utils.data import Dataset, DataLoader"
      ]
    },
    {
      "cell_type": "code",
      "execution_count": null,
      "metadata": {
        "id": "YiT_YvyXdjdV",
        "outputId": "6a93e74c-f0a0-4d0e-cbe2-fd805cba94a9"
      },
      "outputs": [
        {
          "name": "stdout",
          "output_type": "stream",
          "text": [
            "cpu\n"
          ]
        }
      ],
      "source": [
        "pd.set_option('display.max_colwidth', 200)\n",
        "device = 'cuda' if torch.cuda.is_available() else 'cpu'\n",
        "print(device)"
      ]
    },
    {
      "cell_type": "markdown",
      "metadata": {
        "id": "kSvF1j8UdjdW"
      },
      "source": [
        "#### Config"
      ]
    },
    {
      "cell_type": "code",
      "execution_count": null,
      "metadata": {
        "id": "PWtKhYyVdjdY"
      },
      "outputs": [],
      "source": [
        "DATA_PATH = 'data/IMDB Dataset.csv'\n",
        "SAVED_MODEL_PATH = '../model'\n",
        "BERT_CHECKPOINT = 'google/bert_uncased_L-2_H-128_A-2' # bert-base-uncased(tiny)\n",
        "MAX_LEN = 128\n",
        "BATCH_SIZE = 32\n",
        "NUM_CLASSES = 2\n",
        "LEARNING_RATE = 2e-5\n",
        "NUM_EPOCHS = 10"
      ]
    },
    {
      "cell_type": "markdown",
      "metadata": {
        "id": "De2bJZY9djdZ"
      },
      "source": [
        "### Load Data"
      ]
    },
    {
      "cell_type": "code",
      "execution_count": null,
      "metadata": {
        "execution": {
          "iopub.execute_input": "2022-11-20T22:50:55.174403Z",
          "iopub.status.busy": "2022-11-20T22:50:55.173891Z",
          "iopub.status.idle": "2022-11-20T22:50:56.955359Z",
          "shell.execute_reply": "2022-11-20T22:50:56.954260Z",
          "shell.execute_reply.started": "2022-11-20T22:50:55.174364Z"
        },
        "trusted": true,
        "id": "jZh5FWCudjda",
        "outputId": "bddd0cc5-cfc8-4585-8d71-d4fec5c7a281"
      },
      "outputs": [
        {
          "name": "stdout",
          "output_type": "stream",
          "text": [
            "Numbers of samples: 49582\n"
          ]
        },
        {
          "data": {
            "text/html": [
              "<div>\n",
              "<style scoped>\n",
              "    .dataframe tbody tr th:only-of-type {\n",
              "        vertical-align: middle;\n",
              "    }\n",
              "\n",
              "    .dataframe tbody tr th {\n",
              "        vertical-align: top;\n",
              "    }\n",
              "\n",
              "    .dataframe thead th {\n",
              "        text-align: right;\n",
              "    }\n",
              "</style>\n",
              "<table border=\"1\" class=\"dataframe\">\n",
              "  <thead>\n",
              "    <tr style=\"text-align: right;\">\n",
              "      <th></th>\n",
              "      <th>review</th>\n",
              "      <th>sentiment</th>\n",
              "    </tr>\n",
              "  </thead>\n",
              "  <tbody>\n",
              "    <tr>\n",
              "      <th>0</th>\n",
              "      <td>One of the other reviewers has mentioned that after watching just 1 Oz episode you'll be hooked. They are right, as this is exactly what happened with me.&lt;br /&gt;&lt;br /&gt;The first thing that struck me...</td>\n",
              "      <td>positive</td>\n",
              "    </tr>\n",
              "    <tr>\n",
              "      <th>1</th>\n",
              "      <td>A wonderful little production. &lt;br /&gt;&lt;br /&gt;The filming technique is very unassuming- very old-time-BBC fashion and gives a comforting, and sometimes discomforting, sense of realism to the entire p...</td>\n",
              "      <td>positive</td>\n",
              "    </tr>\n",
              "    <tr>\n",
              "      <th>2</th>\n",
              "      <td>I thought this was a wonderful way to spend time on a too hot summer weekend, sitting in the air conditioned theater and watching a light-hearted comedy. The plot is simplistic, but the dialogue i...</td>\n",
              "      <td>positive</td>\n",
              "    </tr>\n",
              "    <tr>\n",
              "      <th>3</th>\n",
              "      <td>Basically there's a family where a little boy (Jake) thinks there's a zombie in his closet &amp; his parents are fighting all the time.&lt;br /&gt;&lt;br /&gt;This movie is slower than a soap opera... and suddenl...</td>\n",
              "      <td>negative</td>\n",
              "    </tr>\n",
              "    <tr>\n",
              "      <th>4</th>\n",
              "      <td>Petter Mattei's \"Love in the Time of Money\" is a visually stunning film to watch. Mr. Mattei offers us a vivid portrait about human relations. This is a movie that seems to be telling us what mone...</td>\n",
              "      <td>positive</td>\n",
              "    </tr>\n",
              "  </tbody>\n",
              "</table>\n",
              "</div>"
            ],
            "text/plain": [
              "                                                                                                                                                                                                    review  \\\n",
              "0  One of the other reviewers has mentioned that after watching just 1 Oz episode you'll be hooked. They are right, as this is exactly what happened with me.<br /><br />The first thing that struck me...   \n",
              "1  A wonderful little production. <br /><br />The filming technique is very unassuming- very old-time-BBC fashion and gives a comforting, and sometimes discomforting, sense of realism to the entire p...   \n",
              "2  I thought this was a wonderful way to spend time on a too hot summer weekend, sitting in the air conditioned theater and watching a light-hearted comedy. The plot is simplistic, but the dialogue i...   \n",
              "3  Basically there's a family where a little boy (Jake) thinks there's a zombie in his closet & his parents are fighting all the time.<br /><br />This movie is slower than a soap opera... and suddenl...   \n",
              "4  Petter Mattei's \"Love in the Time of Money\" is a visually stunning film to watch. Mr. Mattei offers us a vivid portrait about human relations. This is a movie that seems to be telling us what mone...   \n",
              "\n",
              "  sentiment  \n",
              "0  positive  \n",
              "1  positive  \n",
              "2  positive  \n",
              "3  negative  \n",
              "4  positive  "
            ]
          },
          "execution_count": 4,
          "metadata": {},
          "output_type": "execute_result"
        }
      ],
      "source": [
        "# Read data and remove duplicates\n",
        "data = pd.read_csv(DATA_PATH).drop_duplicates()\n",
        "print(f'Numbers of samples: {len(data)}')\n",
        "data.head()"
      ]
    },
    {
      "cell_type": "code",
      "execution_count": null,
      "metadata": {
        "execution": {
          "iopub.execute_input": "2022-11-20T22:50:56.957471Z",
          "iopub.status.busy": "2022-11-20T22:50:56.957041Z",
          "iopub.status.idle": "2022-11-20T22:50:56.987486Z",
          "shell.execute_reply": "2022-11-20T22:50:56.986350Z",
          "shell.execute_reply.started": "2022-11-20T22:50:56.957432Z"
        },
        "trusted": true,
        "id": "ReakirwYdjda",
        "outputId": "1a5e637e-767e-43ff-f442-6cac5a63ffcf"
      },
      "outputs": [
        {
          "data": {
            "text/html": [
              "<div>\n",
              "<style scoped>\n",
              "    .dataframe tbody tr th:only-of-type {\n",
              "        vertical-align: middle;\n",
              "    }\n",
              "\n",
              "    .dataframe tbody tr th {\n",
              "        vertical-align: top;\n",
              "    }\n",
              "\n",
              "    .dataframe thead th {\n",
              "        text-align: right;\n",
              "    }\n",
              "</style>\n",
              "<table border=\"1\" class=\"dataframe\">\n",
              "  <thead>\n",
              "    <tr style=\"text-align: right;\">\n",
              "      <th></th>\n",
              "      <th>review</th>\n",
              "      <th>sentiment</th>\n",
              "    </tr>\n",
              "  </thead>\n",
              "  <tbody>\n",
              "    <tr>\n",
              "      <th>0</th>\n",
              "      <td>One of the other reviewers has mentioned that after watching just 1 Oz episode you'll be hooked. They are right, as this is exactly what happened with me.&lt;br /&gt;&lt;br /&gt;The first thing that struck me...</td>\n",
              "      <td>1</td>\n",
              "    </tr>\n",
              "    <tr>\n",
              "      <th>1</th>\n",
              "      <td>A wonderful little production. &lt;br /&gt;&lt;br /&gt;The filming technique is very unassuming- very old-time-BBC fashion and gives a comforting, and sometimes discomforting, sense of realism to the entire p...</td>\n",
              "      <td>1</td>\n",
              "    </tr>\n",
              "    <tr>\n",
              "      <th>2</th>\n",
              "      <td>I thought this was a wonderful way to spend time on a too hot summer weekend, sitting in the air conditioned theater and watching a light-hearted comedy. The plot is simplistic, but the dialogue i...</td>\n",
              "      <td>1</td>\n",
              "    </tr>\n",
              "    <tr>\n",
              "      <th>3</th>\n",
              "      <td>Basically there's a family where a little boy (Jake) thinks there's a zombie in his closet &amp; his parents are fighting all the time.&lt;br /&gt;&lt;br /&gt;This movie is slower than a soap opera... and suddenl...</td>\n",
              "      <td>0</td>\n",
              "    </tr>\n",
              "    <tr>\n",
              "      <th>4</th>\n",
              "      <td>Petter Mattei's \"Love in the Time of Money\" is a visually stunning film to watch. Mr. Mattei offers us a vivid portrait about human relations. This is a movie that seems to be telling us what mone...</td>\n",
              "      <td>1</td>\n",
              "    </tr>\n",
              "  </tbody>\n",
              "</table>\n",
              "</div>"
            ],
            "text/plain": [
              "                                                                                                                                                                                                    review  \\\n",
              "0  One of the other reviewers has mentioned that after watching just 1 Oz episode you'll be hooked. They are right, as this is exactly what happened with me.<br /><br />The first thing that struck me...   \n",
              "1  A wonderful little production. <br /><br />The filming technique is very unassuming- very old-time-BBC fashion and gives a comforting, and sometimes discomforting, sense of realism to the entire p...   \n",
              "2  I thought this was a wonderful way to spend time on a too hot summer weekend, sitting in the air conditioned theater and watching a light-hearted comedy. The plot is simplistic, but the dialogue i...   \n",
              "3  Basically there's a family where a little boy (Jake) thinks there's a zombie in his closet & his parents are fighting all the time.<br /><br />This movie is slower than a soap opera... and suddenl...   \n",
              "4  Petter Mattei's \"Love in the Time of Money\" is a visually stunning film to watch. Mr. Mattei offers us a vivid portrait about human relations. This is a movie that seems to be telling us what mone...   \n",
              "\n",
              "   sentiment  \n",
              "0          1  \n",
              "1          1  \n",
              "2          1  \n",
              "3          0  \n",
              "4          1  "
            ]
          },
          "execution_count": 5,
          "metadata": {},
          "output_type": "execute_result"
        }
      ],
      "source": [
        "# Transform sentiment to integers\n",
        "data['sentiment'] = data['sentiment'].apply(lambda x: 1 if x == \"positive\" else 0)\n",
        "data.head()"
      ]
    },
    {
      "cell_type": "code",
      "execution_count": null,
      "metadata": {
        "execution": {
          "iopub.execute_input": "2022-11-20T22:50:56.989407Z",
          "iopub.status.busy": "2022-11-20T22:50:56.988978Z",
          "iopub.status.idle": "2022-11-20T22:50:57.026679Z",
          "shell.execute_reply": "2022-11-20T22:50:57.025399Z",
          "shell.execute_reply.started": "2022-11-20T22:50:56.989370Z"
        },
        "trusted": true,
        "id": "h2Vy4uUfdjdc",
        "outputId": "f898329b-cb92-46fd-f879-5d53510e1812"
      },
      "outputs": [
        {
          "name": "stdout",
          "output_type": "stream",
          "text": [
            "Number of samples in train set: 39665\n",
            "Number of samples in validation set: 4958\n",
            "Number of samples in test set: 4959\n"
          ]
        }
      ],
      "source": [
        "# Train, validation and test splits\n",
        "train_df, test_val_df = train_test_split(data, test_size = 0.2, stratify = data['sentiment'], random_state = 100)\n",
        "val_df, test_df = train_test_split(test_val_df, test_size = 0.5, stratify = test_val_df['sentiment'], random_state = 100)\n",
        "train_df.reset_index(drop = True, inplace = True)\n",
        "val_df.reset_index(drop = True, inplace = True)\n",
        "test_df.reset_index(drop = True, inplace = True)\n",
        "\n",
        "print(f'Number of samples in train set: {len(train_df)}')\n",
        "print(f'Number of samples in validation set: {len(val_df)}')\n",
        "print(f'Number of samples in test set: {len(test_df)}')"
      ]
    },
    {
      "cell_type": "code",
      "execution_count": null,
      "metadata": {
        "id": "vaIrUNz-djdc"
      },
      "outputs": [],
      "source": [
        "# Remove extra whitespaces and html tags\n",
        "def clean_text(text):\n",
        "    text = \" \".join(text.split())\n",
        "    text = re.sub(r'<.*?>', '', text)\n",
        "    return text"
      ]
    },
    {
      "cell_type": "code",
      "execution_count": null,
      "metadata": {
        "id": "zJkvqUeDdjdd"
      },
      "outputs": [],
      "source": [
        "# Class for IMDB dataset\n",
        "class IMDBDataset(Dataset):\n",
        "    def __init__(self, review, target, tokenizer, max_len, clean_text = None):\n",
        "        self.clean_text = clean_text\n",
        "        self.review = review\n",
        "        self.target = target\n",
        "        self.tokenizer = tokenizer # BERT tokenizer\n",
        "        self.max_len = max_len # Limit article length\n",
        "\n",
        "    def __len__(self):\n",
        "        return len(self.review)\n",
        "\n",
        "    def __getitem__(self, idx):\n",
        "        X = str(self.review[idx]) # Origin text\n",
        "        y = torch.tensor(self.target[idx], dtype = torch.long) # Origin label\n",
        "        if self.clean_text:\n",
        "            X = self.clean_text(X)\n",
        "\n",
        "        encoded_X = self.tokenizer(\n",
        "            X,\n",
        "            return_tensors = 'pt',\n",
        "            max_length = self.max_len,\n",
        "            truncation = True,\n",
        "            padding = 'max_length'\n",
        "        )\n",
        "\n",
        "        return {'input_ids': encoded_X['input_ids'].squeeze(),\n",
        "                'attention_mask': encoded_X['attention_mask'].squeeze(),\n",
        "                'labels': y}"
      ]
    },
    {
      "cell_type": "code",
      "execution_count": null,
      "metadata": {
        "execution": {
          "iopub.execute_input": "2022-11-20T22:50:57.029048Z",
          "iopub.status.busy": "2022-11-20T22:50:57.028391Z",
          "iopub.status.idle": "2022-11-20T22:50:58.661030Z",
          "shell.execute_reply": "2022-11-20T22:50:58.660107Z",
          "shell.execute_reply.started": "2022-11-20T22:50:57.029008Z"
        },
        "trusted": true,
        "id": "qQOAc_lkdjde"
      },
      "outputs": [],
      "source": [
        "tokenizer = BertTokenizer.from_pretrained(BERT_CHECKPOINT)"
      ]
    },
    {
      "cell_type": "code",
      "execution_count": null,
      "metadata": {
        "execution": {
          "iopub.execute_input": "2022-11-20T22:50:58.662814Z",
          "iopub.status.busy": "2022-11-20T22:50:58.662436Z",
          "iopub.status.idle": "2022-11-20T22:50:58.670489Z",
          "shell.execute_reply": "2022-11-20T22:50:58.669262Z",
          "shell.execute_reply.started": "2022-11-20T22:50:58.662776Z"
        },
        "trusted": true,
        "id": "N87eBRYJdjde"
      },
      "outputs": [],
      "source": [
        "dfs = {'train':train_df, 'val':val_df, 'test':test_df}\n",
        "dataloaders = {}\n",
        "\n",
        "for df in dfs:\n",
        "    should_shuffle = True if df == 'train' else False\n",
        "    dataloaders[df] = DataLoader(\n",
        "    IMDBDataset(dfs[df]['review'],  dfs[df]['sentiment'], tokenizer = tokenizer, max_len = MAX_LEN, clean_text = clean_text),\n",
        "    batch_size = BATCH_SIZE, shuffle = should_shuffle\n",
        "    )"
      ]
    },
    {
      "cell_type": "code",
      "execution_count": null,
      "metadata": {
        "execution": {
          "iopub.execute_input": "2022-11-20T22:50:58.673094Z",
          "iopub.status.busy": "2022-11-20T22:50:58.672381Z",
          "iopub.status.idle": "2022-11-20T22:50:58.890848Z",
          "shell.execute_reply": "2022-11-20T22:50:58.889884Z",
          "shell.execute_reply.started": "2022-11-20T22:50:58.673053Z"
        },
        "trusted": true,
        "id": "0_W50I-Rdjde",
        "outputId": "67f81ea5-54a5-49a1-e01f-d2ee5c7b1329"
      },
      "outputs": [
        {
          "name": "stdout",
          "output_type": "stream",
          "text": [
            "{'input_ids': torch.Size([32, 128]), 'attention_mask': torch.Size([32, 128]), 'labels': torch.Size([32])}\n"
          ]
        }
      ],
      "source": [
        "# Testing if batch loads properly\n",
        "for batch in dataloaders['train']:\n",
        "    print({k:v.shape for k, v in batch.items()})\n",
        "    break"
      ]
    },
    {
      "cell_type": "markdown",
      "metadata": {
        "id": "CW4Y_VvSdjdf"
      },
      "source": [
        "### Training"
      ]
    },
    {
      "cell_type": "code",
      "execution_count": null,
      "metadata": {
        "execution": {
          "iopub.execute_input": "2022-11-20T22:50:58.894666Z",
          "iopub.status.busy": "2022-11-20T22:50:58.894363Z",
          "iopub.status.idle": "2022-11-20T22:51:25.560007Z",
          "shell.execute_reply": "2022-11-20T22:51:25.558838Z",
          "shell.execute_reply.started": "2022-11-20T22:50:58.894634Z"
        },
        "trusted": true,
        "id": "0hpqsUfodjdf",
        "outputId": "85685784-b5ea-4e2e-d7e3-0229bc6a1a62"
      },
      "outputs": [
        {
          "name": "stderr",
          "output_type": "stream",
          "text": [
            "Some weights of BertForSequenceClassification were not initialized from the model checkpoint at google/bert_uncased_L-2_H-128_A-2 and are newly initialized: ['classifier.bias', 'classifier.weight']\n",
            "You should probably TRAIN this model on a down-stream task to be able to use it for predictions and inference.\n"
          ]
        }
      ],
      "source": [
        "# Model\n",
        "model = AutoModelForSequenceClassification.from_pretrained(BERT_CHECKPOINT, num_labels = NUM_CLASSES) # Load BERT classification model\n",
        "model.to(device)\n",
        "\n",
        "# Optimizer\n",
        "optimizer = torch.optim.AdamW(model.parameters(), lr = LEARNING_RATE)\n",
        "\n",
        "# Scheduler\n",
        "num_training_steps = NUM_EPOCHS * len(dataloaders['train'])\n",
        "scheduler = get_scheduler(\n",
        "    'linear',\n",
        "    optimizer = optimizer,\n",
        "    num_warmup_steps = 0,\n",
        "    num_training_steps = num_training_steps\n",
        ") # learn rate"
      ]
    },
    {
      "cell_type": "code",
      "execution_count": null,
      "metadata": {
        "execution": {
          "iopub.execute_input": "2022-11-20T22:51:25.562407Z",
          "iopub.status.busy": "2022-11-20T22:51:25.561995Z",
          "iopub.status.idle": "2022-11-20T22:51:28.027855Z",
          "shell.execute_reply": "2022-11-20T22:51:28.026885Z",
          "shell.execute_reply.started": "2022-11-20T22:51:25.562368Z"
        },
        "trusted": true,
        "id": "p9hjTQdRdjdf",
        "outputId": "12f75a07-4e67-44e7-97eb-5cd90b7c41be"
      },
      "outputs": [
        {
          "name": "stdout",
          "output_type": "stream",
          "text": [
            "tensor(0.7030, grad_fn=<NllLossBackward0>) torch.Size([32, 2])\n"
          ]
        }
      ],
      "source": [
        "# Test\n",
        "outputs = model(**{k:v.to(device) for k, v in batch.items()})\n",
        "print(outputs.loss, outputs.logits.shape)"
      ]
    },
    {
      "cell_type": "code",
      "execution_count": null,
      "metadata": {
        "id": "K5UaimyPdjdg"
      },
      "outputs": [],
      "source": [
        "# Traing loop for one epoch\n",
        "def train_epoch(model, dataloader, optimizer, scheduler, device, progress_bar):\n",
        "    losses = []\n",
        "    accuracies = []\n",
        "    model.train()\n",
        "\n",
        "    for batch in dataloader:\n",
        "        optimizer.zero_grad()\n",
        "        batch = {k:v.to(device) for k, v in batch.items()}\n",
        "        outputs = model(**batch)\n",
        "        loss = outputs.loss\n",
        "        loss.backward()\n",
        "        optimizer.step()\n",
        "        scheduler.step()\n",
        "        preds = torch.argmax(outputs.logits, dim = 1)\n",
        "        acc = torch.sum(preds == batch['labels']) / len(preds)\n",
        "        accuracies.append(acc)\n",
        "        losses.append(loss)\n",
        "        progress_bar.update(1)\n",
        "\n",
        "    return torch.tensor(losses, dtype=torch.float).mean().item(), torch.tensor(accuracies).mean().item()"
      ]
    },
    {
      "cell_type": "code",
      "execution_count": null,
      "metadata": {
        "id": "5_W65Gcgdjdg"
      },
      "outputs": [],
      "source": [
        "# Evaluation loop\n",
        "def eval_epoch(model, dataloader, device):\n",
        "    losses = []\n",
        "    accuracies = []\n",
        "\n",
        "    model.eval() # set to evaluation mode\n",
        "    with torch.no_grad():\n",
        "        for batch in dataloader:\n",
        "\n",
        "            batch = {k:v.to(device) for k, v in batch.items()}\n",
        "            outputs = model(**batch)\n",
        "            loss = outputs.loss\n",
        "\n",
        "            preds = torch.argmax(outputs.logits, dim = 1)\n",
        "            acc = torch.sum(preds == batch['labels']) / len(preds)\n",
        "            accuracies.append(acc)\n",
        "            losses.append(loss)\n",
        "\n",
        "        return torch.tensor(losses, dtype=torch.float).mean().item(), torch.tensor(accuracies).mean().item()"
      ]
    },
    {
      "cell_type": "code",
      "execution_count": null,
      "metadata": {
        "execution": {
          "iopub.execute_input": "2022-11-20T22:51:28.029791Z",
          "iopub.status.busy": "2022-11-20T22:51:28.029416Z",
          "iopub.status.idle": "2022-11-21T00:14:36.225599Z",
          "shell.execute_reply": "2022-11-21T00:14:36.224338Z",
          "shell.execute_reply.started": "2022-11-20T22:51:28.029753Z"
        },
        "trusted": true,
        "id": "h9Qx8x0Jdjdg",
        "outputId": "44d9dc11-5b00-40c9-879d-c0be8047068d",
        "colab": {
          "referenced_widgets": [
            "7090d869cd9148728f4b0b5d6892e2f0"
          ]
        }
      },
      "outputs": [
        {
          "data": {
            "application/vnd.jupyter.widget-view+json": {
              "model_id": "7090d869cd9148728f4b0b5d6892e2f0",
              "version_major": 2,
              "version_minor": 0
            },
            "text/plain": [
              "  0%|          | 0/12400 [00:00<?, ?it/s]"
            ]
          },
          "metadata": {},
          "output_type": "display_data"
        },
        {
          "name": "stdout",
          "output_type": "stream",
          "text": [
            "Train Loss: 0.5510 | Accuracy: 71.74\n",
            "Eval Loss: 0.4327 | Accuracy: 80.28\n",
            "--------------------------------------------------\n",
            "Train Loss: 0.4191 | Accuracy: 81.14\n",
            "Eval Loss: 0.3949 | Accuracy: 82.42\n",
            "--------------------------------------------------\n",
            "Train Loss: 0.3846 | Accuracy: 83.07\n",
            "Eval Loss: 0.3815 | Accuracy: 82.90\n",
            "--------------------------------------------------\n",
            "Train Loss: 0.3574 | Accuracy: 84.45\n",
            "Eval Loss: 0.3733 | Accuracy: 83.06\n",
            "--------------------------------------------------\n",
            "Train Loss: 0.3352 | Accuracy: 85.67\n",
            "Eval Loss: 0.3793 | Accuracy: 82.78\n",
            "--------------------------------------------------\n",
            "Train Loss: 0.3178 | Accuracy: 86.67\n",
            "Eval Loss: 0.3680 | Accuracy: 83.59\n",
            "--------------------------------------------------\n",
            "Train Loss: 0.3056 | Accuracy: 87.38\n",
            "Eval Loss: 0.3675 | Accuracy: 83.91\n",
            "--------------------------------------------------\n",
            "Train Loss: 0.2949 | Accuracy: 87.77\n",
            "Eval Loss: 0.3732 | Accuracy: 83.67\n",
            "--------------------------------------------------\n",
            "Train Loss: 0.2854 | Accuracy: 88.34\n",
            "Eval Loss: 0.3776 | Accuracy: 83.49\n",
            "--------------------------------------------------\n",
            "Train Loss: 0.2840 | Accuracy: 88.32\n",
            "Eval Loss: 0.3776 | Accuracy: 83.61\n",
            "--------------------------------------------------\n"
          ]
        }
      ],
      "source": [
        "# Training, evaluation\n",
        "progress_bar = tqdm(range(num_training_steps))\n",
        "history = {'train_loss':[], 'train_acc':[], 'val_loss':[], 'val_acc': []}\n",
        "\n",
        "best_accuracy = 0\n",
        "for epoch in range(NUM_EPOCHS):\n",
        "    train_loss, train_acc = train_epoch(model, dataloaders['train'], optimizer, scheduler, device, progress_bar)\n",
        "    print(f'Train Loss: {train_loss :.4f} | Accuracy: {train_acc*100 :.2f}')\n",
        "\n",
        "    val_loss, val_acc = eval_epoch(model, dataloaders['val'], device)\n",
        "    print(f'Eval Loss: {val_loss :.4f} | Accuracy: {val_acc*100 :.2f}')\n",
        "\n",
        "    history['train_loss'].append(train_loss)\n",
        "    history['train_acc'].append(train_acc)\n",
        "\n",
        "    history['val_loss'].append(val_loss)\n",
        "    history['val_acc'].append(val_acc)\n",
        "\n",
        "    # save best model\n",
        "    if val_acc > best_accuracy:\n",
        "        model.save_pretrained(SAVED_MODEL_PATH)\n",
        "        best_accuracy = val_acc\n",
        "\n",
        "    print('-'*50)"
      ]
    },
    {
      "cell_type": "code",
      "execution_count": null,
      "metadata": {
        "execution": {
          "iopub.execute_input": "2022-11-21T00:14:36.228319Z",
          "iopub.status.busy": "2022-11-21T00:14:36.227841Z",
          "iopub.status.idle": "2022-11-21T00:14:36.928862Z",
          "shell.execute_reply": "2022-11-21T00:14:36.927925Z",
          "shell.execute_reply.started": "2022-11-21T00:14:36.228279Z"
        },
        "trusted": true,
        "id": "SjZ4ucI7djdg",
        "outputId": "a93f9e83-28ed-4919-9d29-1cf01368b861"
      },
      "outputs": [
        {
          "data": {
            "image/png": "[encoded data removed]",
            "text/plain": [
              "<Figure size 1200x400 with 2 Axes>"
            ]
          },
          "metadata": {},
          "output_type": "display_data"
        }
      ],
      "source": [
        "# Plots\n",
        "x_epochs = list(range(NUM_EPOCHS))\n",
        "plt.figure(figsize = (12, 4))\n",
        "plt.subplot(1, 2, 1)\n",
        "plt.plot(x_epochs, history['train_loss'], marker = 'o', label = 'train')\n",
        "plt.plot(x_epochs, history['val_loss'], marker = 'o', label = 'val')\n",
        "plt.xlabel('Epoch')\n",
        "plt.ylabel('Loss')\n",
        "plt.legend()\n",
        "\n",
        "plt.subplot(1, 2, 2)\n",
        "plt.plot(x_epochs, history['train_acc'], marker = 'o', label = 'train')\n",
        "plt.plot(x_epochs, history['val_acc'], marker = 'o', label = 'val')\n",
        "plt.axhline(best_accuracy, c = 'grey', ls = '--',\n",
        "            label = f'Best_accuracy({best_accuracy*100 :.2f}%)')\n",
        "plt.xlabel('Epoch')\n",
        "plt.ylabel('Accuracy')\n",
        "plt.legend()\n",
        "plt.savefig('Accuracy.jpg')\n",
        "plt.show()"
      ]
    },
    {
      "cell_type": "markdown",
      "metadata": {
        "id": "Um7MxN0Zdjdh"
      },
      "source": [
        "### Test"
      ]
    },
    {
      "cell_type": "code",
      "execution_count": null,
      "metadata": {
        "id": "v3VgW5xwdjdh"
      },
      "outputs": [],
      "source": [
        "# For final evaluation on test set\n",
        "def test(model, dataloader, device):\n",
        "    y_preds = []\n",
        "    y_true = []\n",
        "    model.eval()\n",
        "    with torch.no_grad():\n",
        "        for batch in dataloader:\n",
        "            batch = {k:v.to(device) for k, v in batch.items()}\n",
        "            outputs = model(**batch)\n",
        "            y_preds.extend( torch.argmax(outputs.logits, dim = 1))\n",
        "            y_true.extend( batch['labels'])\n",
        "        return y_preds, y_true"
      ]
    },
    {
      "cell_type": "code",
      "execution_count": null,
      "metadata": {
        "execution": {
          "iopub.execute_input": "2022-11-21T00:14:36.931019Z",
          "iopub.status.busy": "2022-11-21T00:14:36.930395Z",
          "iopub.status.idle": "2022-11-21T00:15:34.478847Z",
          "shell.execute_reply": "2022-11-21T00:15:34.477889Z",
          "shell.execute_reply.started": "2022-11-21T00:14:36.930980Z"
        },
        "trusted": true,
        "id": "R2ZWfQ0ndjdh"
      },
      "outputs": [],
      "source": [
        "y_preds, y_true = test(model,dataloaders['test'], device)"
      ]
    },
    {
      "cell_type": "code",
      "execution_count": null,
      "metadata": {
        "execution": {
          "iopub.execute_input": "2022-11-21T00:15:34.480902Z",
          "iopub.status.busy": "2022-11-21T00:15:34.480494Z",
          "iopub.status.idle": "2022-11-21T00:15:34.867444Z",
          "shell.execute_reply": "2022-11-21T00:15:34.865930Z",
          "shell.execute_reply.started": "2022-11-21T00:15:34.480863Z"
        },
        "trusted": true,
        "id": "Gd1vq-4Adjdh",
        "outputId": "30e6a6b6-85aa-4111-fe51-06c629c22fc6"
      },
      "outputs": [
        {
          "data": {
            "image/png": "[encoded data removed]",
            "text/plain": [
              "<Figure size 600x600 with 2 Axes>"
            ]
          },
          "metadata": {},
          "output_type": "display_data"
        }
      ],
      "source": [
        "_ , ax = plt.subplots(figsize = (6, 6))\n",
        "ConfusionMatrixDisplay.from_predictions(torch.tensor(y_true), torch.tensor(y_preds), ax = ax, colorbar = True)\n",
        "plt.savefig('ConfusionMatrix.jpg')"
      ]
    },
    {
      "cell_type": "code",
      "execution_count": null,
      "metadata": {
        "execution": {
          "iopub.execute_input": "2022-11-21T00:15:34.869764Z",
          "iopub.status.busy": "2022-11-21T00:15:34.869330Z",
          "iopub.status.idle": "2022-11-21T00:15:35.056288Z",
          "shell.execute_reply": "2022-11-21T00:15:35.055365Z",
          "shell.execute_reply.started": "2022-11-21T00:15:34.869723Z"
        },
        "trusted": true,
        "id": "mFBaIq0adjdi",
        "outputId": "b38eb540-271c-4512-b16b-0c4a5cc5885c"
      },
      "outputs": [
        {
          "name": "stdout",
          "output_type": "stream",
          "text": [
            "              precision    recall  f1-score   support\n",
            "\n",
            "           0       0.81      0.87      0.84      2470\n",
            "           1       0.87      0.80      0.83      2489\n",
            "\n",
            "    accuracy                           0.84      4959\n",
            "   macro avg       0.84      0.84      0.84      4959\n",
            "weighted avg       0.84      0.84      0.84      4959\n",
            "\n"
          ]
        }
      ],
      "source": [
        "print(classification_report(torch.tensor(y_true), torch.tensor(y_preds)))"
      ]
    },
    {
      "cell_type": "markdown",
      "metadata": {
        "id": "paHd2UuOdjdi"
      },
      "source": [
        "#### Inference"
      ]
    },
    {
      "cell_type": "code",
      "execution_count": null,
      "metadata": {
        "id": "ZOk2Iqltdjdi"
      },
      "outputs": [],
      "source": [
        "# Load model config\n",
        "import json\n",
        "from transformers import BertConfig, BertForSequenceClassification\n",
        "import torch\n",
        "import pandas as pd\n",
        "import numpy as np\n",
        "from sklearn.metrics import accuracy_score\n",
        "\n",
        "\n",
        "with open('BERT/model/config.json', 'r') as f:\n",
        "  config_dict = json.load(f)\n",
        "\n",
        "config = BertConfig.from_dict(config_dict)\n",
        "model = BertForSequenceClassification(config)"
      ]
    },
    {
      "cell_type": "code",
      "execution_count": null,
      "metadata": {
        "id": "qjkR8vFZdjdi"
      },
      "outputs": [],
      "source": [
        "def tokenize_reviews(reviews, labels):\n",
        "  input_ids = []\n",
        "  attention_masks = []\n",
        "\n",
        "  for review in reviews:\n",
        "    encoded_dict = tokenizer.encode_plus(\n",
        "        review,\n",
        "        add_special_tokens=True,\n",
        "        max_length=128,\n",
        "        padding = 'max_length',\n",
        "        truncation =True,\n",
        "        return_attention_mask = True,\n",
        "        return_tensors = 'pt'\n",
        "    )\n",
        "    input_ids.append(encoded_dict['input_ids'])\n",
        "    attention_masks.append(encoded_dict['attention_mask'])\n",
        "\n",
        "  input_ids = torch.cat(input_ids, dim = 0)\n",
        "  attention_masks = torch.cat(attention_masks, dim = 0)\n",
        "  labels = torch.tensor(labels)\n",
        "\n",
        "  return input_ids, attention_masks, labels"
      ]
    },
    {
      "cell_type": "code",
      "execution_count": null,
      "metadata": {
        "id": "Ru2_U_VYdjdi"
      },
      "outputs": [],
      "source": [
        "data = pd.read_csv(DATA_PATH).drop_duplicates()\n",
        "data['review'] = data.apply(lambda x: clean_text(x['review']), axis = 1)\n",
        "reviews = data['review'].to_numpy()\n",
        "labels = data['sentiment'].map({'positive':1,'negative':0}).to_numpy()\n",
        "x_train, x_test, y_train, y_test = train_test_split(reviews,labels, test_size = 0.2)\n",
        "x_test = x_test[100:105]\n",
        "y_test = y_test[100:105]"
      ]
    },
    {
      "cell_type": "code",
      "execution_count": null,
      "metadata": {
        "id": "kOII4SeKdjdj",
        "outputId": "299ab851-27fb-45f9-ac74-92756a824f15"
      },
      "outputs": [
        {
          "name": "stdout",
          "output_type": "stream",
          "text": [
            "\n",
            "  review: Unless you are already familiar with the pop stars who star in this film, save yourself the time and stop reading this review after you've reached the end of the next sentence.FORGET YOU EVER STUMBLED UPON THIS FILM AND GO WATCH SOMETHING ELSE.But if you insist on reading, consider: Lame vehicle for Japanese teen idol pretty-boys featuring nonsensical, convoluted \"plot\" that drags out for an insufferable amount of time until you're ready to scream.Nothing in this film makes sense. It's an endless series of people expressing various emotions, from joy to anger, from happiness to tragedy, FOR NO GOOD REASON. We can obviously see something incredibly \"dramatic\" is happening, but we just don't GIVE A CRAP WHY 'cause there's no backstory.By the time this film is over, you will be sick and tired of these stupid, lanky, girly stars' faces. You'll be revolted at having spent all this time watching them smile, sneer, cry, look mysterious, be \"serious,\" and any other pointless expression they slap on their faces.That some moron would ever go so far as to refer to this piece of insipid trash as being the \"soul\" of any of its \"actors\" should prove to you beyond the shadow of a doubt what the trailer and countless adoring comments on this site will not tell you: Only the \"converted,\" mindless minions will like this film, the majority of them teenage girls with a pathological adoration for anything androgynous. Freud would have a field day.Unless you're one of these mindless \"fans,\" stay the hell away from this abomination.\n",
            "  predict: tensor([ 0.1886, -0.3616])\n",
            "  ground truth: 0\n",
            "  -------------------------\n",
            "  \n",
            "\n",
            "  review: I knew that I was not about to see a quality film when this title was included in a 'B-grade video night' at a friends place. Despite the warnings, I was still surprised at just how bad this film was. It was fortunate that there were a lot of us there to share the pain with each other... The film attempts to tell the story of a dark future, one in which Hawk (a Mad Max type of character) heads off to rescue a damsel in distress. In reality, the plot is a thinly disguised excuse for the producers to promote their own philosophies on life (watch the end credits and the 'these people are not real' disclaimer at the end for a real laugh). The movie is frequently lacking direction, and fails to develop its characters to any degree whatsoever. What's even worse though is the editing of this film. The film repeats scenes (often 10 to 20 seconds long) up to 4 or 5 times in a row. I think that this was an attempt to emulate things like Jean Claude Van-Damme fight sequences, but if it is it fails utterly. The film would probably be about 1/3 of its length if we weren't forced to watch the main character move his head in front of the setting sun half a dozen times (yes, that's all that happens in that repeated scene). I give this movie my 'worst film I've ever seen' award. I doubt that it will be topped any time soon.\n",
            "  predict: tensor([-0.1771, -0.2096])\n",
            "  ground truth: 0\n",
            "  -------------------------\n",
            "  \n",
            "\n",
            "  review: I saw the German version of the movie in German television and I was really amazed. I generally like to see documentaries, but I can't remember to have seen one that is better than 'Earth'. I knew some of the scenes from Youtube videos that I found by random browsing. I also remember to have seen parts of the film on multimedia stores, running on the displayed high definition TVs. After seeing the movie it's obvious to me why the footage is so popular among Youtube users and multimedia retail managers: It's just so awesome and spectacular that you can't help but stare on the screen, no matter if you're generally interested in nature documentaries or not.Without hesitating a 10 out of 10. For sure, there are more thrilling movies, but in regard of documentaries, 'Earth' is definitely one of the best of it's genre.\n",
            "  predict: tensor([-0.0077, -0.8846])\n",
            "  ground truth: 1\n",
            "  -------------------------\n",
            "  \n",
            "\n",
            "  review: Even though this film was nothing special as such, I am drawn to comment on at least one factor that ruled in its favour - that of the lead female performer in the film, Dyan Cannon. In spite of the film's ridiculous storyline and what she goes through here, hers was the best acting job in the film, making the unbelievable seem more plausible. Her raucous scene with the gay photographer David Hemmings has to be seen to be believed. Good work, Dyan.\n",
            "  predict: tensor([ 0.1539, -0.4858])\n",
            "  ground truth: 0\n",
            "  -------------------------\n",
            "  \n",
            "\n",
            "  review: I guess this goes to prove that Joe Don Baker will do anything for a buck. The concept of the film wasn't very good to start with. This movie has so many bad things about it I don't know where to start. The acting is horrible. The cinematography is marginal at best. The soundtrack was pretty bad. The score is terrible. There's a reason why this movie ended up on Mystery Science Theater 3000. I voted before I wrote this and I cannot believe that 9 people actually thought this \"film\" is excellent. They must have liked the two go-go dancers. Final justice would be if they locked this stinker in the film vault outside Wichita and never let anyone see it again! A 1 out of 10 rating is far better than this deserves.\n",
            "  predict: tensor([ 0.1374, -0.3806])\n",
            "  ground truth: 0\n",
            "  -------------------------\n",
            "  \n"
          ]
        }
      ],
      "source": [
        "inf_num = len(x_test)\n",
        "inf_reviews = x_test\n",
        "inf_labels = y_test\n",
        "inf_inp_ids, inf_att_masks, inf_labels = tokenize_reviews(x_test, y_test)\n",
        "inf_inp_ids, inf_att_masks, inf_labels = inf_inp_ids.to(device),inf_att_masks.to(device), inf_labels.to(device)\n",
        "\n",
        "with torch.no_grad():\n",
        "  inf_logits = model(inf_inp_ids, attention_mask=inf_att_masks)\n",
        "\n",
        "for i in range(inf_num):\n",
        "  print(f\"\"\"\n",
        "  review: {inf_reviews[i]}\n",
        "  predict: {inf_logits[0][i]}\n",
        "  ground truth: {inf_labels[i]}\n",
        "  -------------------------\n",
        "  \"\"\")"
      ]
    }
  ],
  "metadata": {
    "kernelspec": {
      "display_name": "Python 3",
      "language": "python",
      "name": "python3"
    },
    "language_info": {
      "codemirror_mode": {
        "name": "ipython",
        "version": 3
      },
      "file_extension": ".py",
      "mimetype": "text/x-python",
      "name": "python",
      "nbconvert_exporter": "python",
      "pygments_lexer": "ipython3",
      "version": "3.11.3"
    },
    "vscode": {
      "interpreter": {
        "hash": "57b4146e8602cb0ff91512065bdb02700ac9f9d6ea9aa046f2e5f7c3a69675f8"
      }
    },
    "colab": {
      "provenance": []
    }
  },
  "nbformat": 4,
  "nbformat_minor": 0
}